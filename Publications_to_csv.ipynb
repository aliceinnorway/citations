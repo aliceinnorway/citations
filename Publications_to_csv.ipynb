{
 "cells": [
  {
   "cell_type": "markdown",
   "metadata": {},
   "source": [
    "# Paste in blocks of citations and convert to a csv file"
   ]
  },
  {
   "cell_type": "code",
   "execution_count": 41,
   "metadata": {},
   "outputs": [],
   "source": [
    "#importing pandas\n",
    "import pandas as pd\n",
    "\n",
    "#importing citation csv file\n",
    "citations_df = pd.read_excel('citations.xls')\n",
    "\n",
    "#change it to a series\n",
    "citations_series = citations_df.squeeze()"
   ]
  },
  {
   "cell_type": "code",
   "execution_count": 60,
   "metadata": {},
   "outputs": [
    {
     "name": "stdout",
     "output_type": "stream",
     "text": [
      "Staaby, Anne, Hansen, Kjeld S. & Grønli, Tor-Morten (2021). Automation of Routine Work: A Case Study of Employees' Experiences of Work Meaningfulness. Proceedings of the Annual Hawaii International Conference on System Sciences (HICSS). ISSN 1530-1605. 54 p 156-165. doi: 10.24251/HICSS.2021.018\n",
      "['', 'Staaby, Anne, Hansen, Kjeld S. & Grønli, Tor-Morten', \"Automation of Routine Work: A Case Study of Employees' Experiences of Work Meaningfulness.\\xa0Proceedings of the Annual Hawaii International Conference on System Sciences\", '']\n"
     ]
    },
    {
     "data": {
      "text/plain": [
       "0     Staaby, Anne, Hansen, Kjeld S. & Grønli, Tor-M...\n",
       "1     Klavestad, Sindre, Assres, Gebremariam Mesfin,...\n",
       "2     Grønli, Tor-Morten, Majchrzak, Tim A. & Kaindl...\n",
       "3     Mikkelsen, Anders, Grønli, Tor-Morten, Tamburr...\n",
       "4     Lizarralde, Ignacio, Mateos, Cristian, Zunino,...\n",
       "                            ...                        \n",
       "89    Grønli, Tor-Morten & Ghinea, Gheorghita (2009)...\n",
       "90    Bygstad, Bendik, Krogstie, Birgit & Grønli, To...\n",
       "91    Grønli, Tor-Morten & Bygstad, Bendik (2009). I...\n",
       "92    Grønli, Tor-Morten & Ghinea, Gheorghita (2008)...\n",
       "93    Bygstad, Bendik, Krogstie, Birgit & Grønli, To...\n",
       "Name: citations, Length: 94, dtype: object"
      ]
     },
     "execution_count": 60,
     "metadata": {},
     "output_type": "execute_result"
    }
   ],
   "source": [
    "print(citations_series[0])\n",
    "citations_split_authors = citations_series.str.split('(.*)\\s\\(\\d+\\).\\s(.*)\\s\\(.*')\n",
    "print(citations_split_authors[0])\n",
    "citations_df['citations'] = citations_df['citations'].replace(' (', ' -')\n",
    "citations_df['citations']"
   ]
  },
  {
   "cell_type": "code",
   "execution_count": 3,
   "metadata": {},
   "outputs": [
    {
     "name": "stdout",
     "output_type": "stream",
     "text": [
      "Tor-Morten Grønli, Tim A. Majchrzak, and Hermann Kaindl\n"
     ]
    }
   ],
   "source": [
    "citations_block = \"Grønli, Tor-Morten, Majchrzak, Tim A. & Kaindl, Hermann (2020). A Bibliometric Analysis of the HICSS Software Technology Track. Proceedings of the Annual Hawaii International Conference on System Sciences (HICSS). ISSN 1530-1605. p 6671-6680. doi: 10.24251/hicss.2020.816\"\n",
    "\n",
    "# This is to remove the authors.\n",
    "citations_split_one = citations_block.split(' (', 1)\n",
    "authors_reverse = citations_split_one[0]\n",
    "\n",
    "# sometimes the authors may be distinguished by & or and instead of , \n",
    "authors_reverse = authors_reverse.replace(' &', ',')\n",
    "authors_reverse = authors_reverse.replace(' and', ',')\n",
    "authors_reverse = authors_reverse.replace('Kjeld S.', 'Kjeld Steenbjerg') #This is because Wix is only recognising Kjeld as Kjeld Steenbjerg\n",
    "\n",
    "# splitting all the names\n",
    "name_list = authors_reverse.split(',')\n",
    "\n",
    "# add a space before the first surname\n",
    "name_list[0] = ' ' + name_list[0]\n",
    "\n",
    "# add 'and' for the last name\n",
    "name_list[-1] = 'and' + name_list[-1]\n",
    "\n",
    "# now to add the names back together\n",
    "new_names = []\n",
    "stop = len(name_list) - 1\n",
    "x = range(0, stop, 2)\n",
    "\n",
    "for i in x:\n",
    "    first_name = i + 1\n",
    "    # this line below is where its switches the names\n",
    "    full_name = (name_list[first_name] + name_list[i]).lstrip()\n",
    "    new_names.append(full_name)\n",
    "    \n",
    "authors = ', '.join(str(i) for i in new_names)\n",
    "print(authors)\n",
    "# Here I will need to push the authors to the new csv file."
   ]
  },
  {
   "cell_type": "code",
   "execution_count": null,
   "metadata": {},
   "outputs": [],
   "source": []
  }
 ],
 "metadata": {
  "kernelspec": {
   "display_name": "Python 3",
   "language": "python",
   "name": "python3"
  },
  "language_info": {
   "codemirror_mode": {
    "name": "ipython",
    "version": 3
   },
   "file_extension": ".py",
   "mimetype": "text/x-python",
   "name": "python",
   "nbconvert_exporter": "python",
   "pygments_lexer": "ipython3",
   "version": "3.8.3"
  }
 },
 "nbformat": 4,
 "nbformat_minor": 4
}
